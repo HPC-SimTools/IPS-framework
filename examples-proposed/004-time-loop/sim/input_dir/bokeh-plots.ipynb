{
 "cells": [
  {
   "cell_type": "code",
   "execution_count": null,
   "id": "5d75faa3",
   "metadata": {},
   "outputs": [],
   "source": [
    "# Notebook template, the IPS Framework will add a cell before this one\n",
    "# defining DATA_FILES as a list of state file paths.\n",
    "\n",
    "# In this example, this notebook is only generated at the end of the run.\n",
    "\n",
    "# Bokeh is installed by default on the NERSC Jupyter environment, so works well for this example.\n",
    "from bokeh.io import output_notebook\n",
    "from bokeh.plotting import figure, show\n",
    "import json\n",
    "\n",
    "output_notebook()\n",
    "\n",
    "DATA = []\n",
    "# create DATA list, will depend on user input type (i.e. 'hdf5', 'json')\n",
    "for _timestep, file in DATA_FILES:\n",
    "    with open(file, 'rb') as f:\n",
    "        DATA.append(json.load(f))\n",
    "x = list(DATA_FILES.keys())\n",
    "\n",
    "COLORS = ['red', 'green', 'blue']\n",
    "\n",
    "GRAPHS = [\n",
    "    {'title': 'IPS full results', 'graph_format': 'line', 'data_paths': [['y1'], ['y2'], ['y3']]},\n",
    "    {'title': 'IPS partial results', 'graph_format': 'line', 'data_paths': [['y1']]},\n",
    "]\n",
    "\n",
    "# get data function - will depend on user input (i.e. 'hdf5', 'json', etc.)\n",
    "def get_data(d, prop_path):\n",
    "    data = d[prop_path[0]]\n",
    "    for inner in prop_path[1:]:\n",
    "        data = data[inner]\n",
    "    return data\n",
    "\n",
    "# generate two simple line graphs from data\n",
    "for g in GRAPHS:\n",
    "    paths = g['data_paths']\n",
    "    \n",
    "    graph = figure(title=g['title'])\n",
    "    graph.xaxis.axis_label = 'IPS Timestep'\n",
    "    graph.yaxis.axis_label = 'data values'\n",
    "    \n",
    "    for idx, prop in enumerate(paths):\n",
    "        y = [get_data(d, prop) for d in DATA]\n",
    "        graph.line(x, y, line_color=COLORS[idx % len(COLORS)], line_dash='solid', legend_label='_'.join(prop))\n",
    "    show(graph)\n",
    "\n",
    "# TODO - add cell at end which shows history as a simulation (do it frame by frame instead of a line graph)\n"
   ]
  }
 ],
 "metadata": {
  "language_info": {
   "name": "python"
  }
 },
 "nbformat": 4,
 "nbformat_minor": 5
}
