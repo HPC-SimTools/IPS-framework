{
 "cells": [
  {
   "cell_type": "code",
   "execution_count": null,
   "id": "5d75faa3",
   "metadata": {},
   "outputs": [],
   "source": [
    "# Notebook template, the IPS Framework will add a cell before this one\n",
    "# defining DATA_FILES as a list of state file paths.\n",
    "\n",
    "# In this example, this notebook is generated during the time loop.\n",
    "\n",
    "mapping = {}\n",
    "for file in DATA_FILES.values():\n",
    "    with open(file, 'rb') as f:\n",
    "        mapping[file] = f.read()\n",
    "print(mapping)\n"
   ]
  }
 ],
 "metadata": {
  "language_info": {
   "name": "python"
  }
 },
 "nbformat": 4,
 "nbformat_minor": 5
}
