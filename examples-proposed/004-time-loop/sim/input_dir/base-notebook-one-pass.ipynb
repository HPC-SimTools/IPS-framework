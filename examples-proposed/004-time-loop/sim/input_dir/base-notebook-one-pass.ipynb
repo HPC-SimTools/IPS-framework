{
 "cells": [
  {
   "cell_type": "code",
   "execution_count": null,
   "id": "5d75faa3",
   "metadata": {},
   "outputs": [],
   "source": [
    "# Notebook template, the IPS Framework will add a cell before this one\n",
    "# defining IPS_STATE_FILES as a list of state file paths.\n",
    "\n",
    "# In this example, this notebook is only generated at the end of the run.\n",
    "\n",
    "mapping = {}\n",
    "for file in IPS_STATE_FILES:\n",
    "    with open(file, 'rb') as f:\n",
    "        mapping[file] = f.read()\n",
    "print(mapping)\n"
   ]
  }
 ],
 "metadata": {
  "language_info": {
   "name": "python"
  }
 },
 "nbformat": 4,
 "nbformat_minor": 5
}
